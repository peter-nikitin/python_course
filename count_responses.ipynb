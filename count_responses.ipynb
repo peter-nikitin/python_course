{
 "metadata": {
  "language_info": {
   "codemirror_mode": {
    "name": "ipython",
    "version": 3
   },
   "file_extension": ".py",
   "mimetype": "text/x-python",
   "name": "python",
   "nbconvert_exporter": "python",
   "pygments_lexer": "ipython3",
   "version": "3.9.4"
  },
  "orig_nbformat": 2,
  "kernelspec": {
   "name": "python394jvsc74a57bd0aee8b7b246df8f9039afb4144a1f6fd8d2ca17a180786b69acc140d282b71a49",
   "display_name": "Python 3.9.4 64-bit"
  },
  "metadata": {
   "interpreter": {
    "hash": "aee8b7b246df8f9039afb4144a1f6fd8d2ca17a180786b69acc140d282b71a49"
   }
  }
 },
 "nbformat": 4,
 "nbformat_minor": 2,
 "cells": [
  {
   "cell_type": "code",
   "execution_count": 2,
   "metadata": {
    "tags": []
   },
   "outputs": [
    {
     "output_type": "execute_result",
     "data": {
      "text/plain": [
       "error                              InternalServerError No error data  \\\n",
       "status                  message_id                                     \n",
       "No token could be found No                           0       12830.0   \n",
       "Status: OK.             0:                           0       49905.0   \n",
       "                        No                       522.0             0   \n",
       "                        ht                           0          88.0   \n",
       "\n",
       "error                              NotRegistered  \n",
       "status                  message_id                \n",
       "No token could be found No                     0  \n",
       "Status: OK.             0:                     0  \n",
       "                        No               58555.0  \n",
       "                        ht                     0  "
      ],
      "text/html": "<div>\n<style scoped>\n    .dataframe tbody tr th:only-of-type {\n        vertical-align: middle;\n    }\n\n    .dataframe tbody tr th {\n        vertical-align: top;\n    }\n\n    .dataframe thead th {\n        text-align: right;\n    }\n</style>\n<table border=\"1\" class=\"dataframe\">\n  <thead>\n    <tr style=\"text-align: right;\">\n      <th></th>\n      <th>error</th>\n      <th>InternalServerError</th>\n      <th>No error data</th>\n      <th>NotRegistered</th>\n    </tr>\n    <tr>\n      <th>status</th>\n      <th>message_id</th>\n      <th></th>\n      <th></th>\n      <th></th>\n    </tr>\n  </thead>\n  <tbody>\n    <tr>\n      <th>No token could be found</th>\n      <th>No</th>\n      <td>0</td>\n      <td>12830.0</td>\n      <td>0</td>\n    </tr>\n    <tr>\n      <th rowspan=\"3\" valign=\"top\">Status: OK.</th>\n      <th>0:</th>\n      <td>0</td>\n      <td>49905.0</td>\n      <td>0</td>\n    </tr>\n    <tr>\n      <th>No</th>\n      <td>522.0</td>\n      <td>0</td>\n      <td>58555.0</td>\n    </tr>\n    <tr>\n      <th>ht</th>\n      <td>0</td>\n      <td>88.0</td>\n      <td>0</td>\n    </tr>\n  </tbody>\n</table>\n</div>"
     },
     "metadata": {},
     "execution_count": 2
    }
   ],
   "source": [
    "import pandas as pd\n",
    "import json \n",
    "\n",
    "data = pd.read_csv('data.csv')\n",
    "# выделяею JSON в отдельную колонку\n",
    "statuses = data[\"Description\"].str.split(\"\\n\", expand=True)\n",
    "data[\"status\"] = statuses[0]\n",
    "data[\"firebase\"] = statuses[1]\n",
    "data = data.drop([\"Description\"], axis=1)\n",
    "\n",
    "# фильрую непутсые строки с JSON\n",
    "firebase_json_not_null = data['firebase'].notnull()\n",
    "firebase_json_not_null = data[firebase_json_not_null]\n",
    "\n",
    "# разбираю JSON и превращаю его в колонки\n",
    "firebase_response = firebase_json_not_null['firebase'].map(json.loads).apply(pd.Series)\n",
    "firebase_json_not_null = pd.concat([firebase_json_not_null.drop(['firebase'], axis=1), firebase_response], axis=1)\n",
    "firebase_response_result =  firebase_json_not_null[\"results\"].apply(pd.Series)[0].apply(pd.Series)\n",
    "\n",
    "# склеиваю разобранный JSON с изначальной таблицей\n",
    "firebase_json_not_null = pd.concat([firebase_json_not_null.drop([\"results\"], axis=1), firebase_response_result], axis=1)\n",
    "result = pd.concat([data.drop(['firebase'], axis=1), firebase_json_not_null.drop(['TransactionalId', 'status', \"Id\"], axis=1)], axis=1)\n",
    "\n",
    "# обрабатываю данные к колонках\n",
    "\n",
    "# в колонке много уникальных значений. Они мне не нужны, поэтоум беру первые 23 символа, чтобы остальось только 2 значения\n",
    "result[\"status\"] = result[\"status\"].str[:23]\n",
    "result[\"status\"] = result[\"status\"].str.replace(' \\r', \"\")\n",
    "\n",
    "# заполняю пустые значени \n",
    "result['error'] = result['error'].fillna('No error data')\n",
    "\n",
    "# заполняю пустые значения и достаю первые 2 символа, чтобы было меньше уникальных значений \n",
    "result['message_id'] = result['message_id'].fillna('No message data')\n",
    "result['message_id'] = result['message_id'].str[:2]\n",
    "\n",
    "# заполняю пустые значения и преобразую к TRUE/FALSE\n",
    "result['success'] = result['success'].fillna('0.0')\n",
    "result['success'] = pd.to_numeric(result['success'], downcast='signed').astype(bool)\n",
    "result['failure'] = result['failure'].fillna('1.0')\n",
    "result['failure'] = pd.to_numeric(result['failure'], downcast='signed').astype(bool)\n",
    "\n",
    "# собираю сводную таблицу\n",
    "pd.pivot_table(result, index=['status', 'message_id'], columns=['error'], values='TransactionalId', aggfunc='nunique').fillna('0')\n",
    "\n",
    "\n",
    "# \"\"\" \n",
    "# В итоге у меня получилось таблица из которой я руками достал данные вот так:\n",
    "\n",
    "# NotRegistered\t            58555\n",
    "# Send OK\t                    49905\n",
    "# No token could be found\t    12830\n",
    "# InternalServerError\t        522\n",
    "# ht (Странная ошибка)\t    88\n",
    "# \t                        121900\n",
    "\n",
    "# Но скорость выполнения низкая - минуты на этот файл. Хочу понять, как можно оптимизировать, чтобы обрабатывать файлиы в миллионы строк\n",
    "# \"\"\""
   ]
  },
  {
   "cell_type": "code",
   "execution_count": null,
   "metadata": {},
   "outputs": [],
   "source": []
  }
 ]
}